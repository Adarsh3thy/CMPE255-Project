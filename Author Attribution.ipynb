{
 "cells": [
  {
   "cell_type": "code",
   "execution_count": 99,
   "id": "4d43a4c6",
   "metadata": {},
   "outputs": [
    {
     "name": "stderr",
     "output_type": "stream",
     "text": [
      "[nltk_data] Downloading package wordnet to\n",
      "[nltk_data]     C:\\Users\\Acer\\AppData\\Roaming\\nltk_data...\n",
      "[nltk_data]   Package wordnet is already up-to-date!\n"
     ]
    },
    {
     "data": {
      "text/plain": [
       "True"
      ]
     },
     "execution_count": 99,
     "metadata": {},
     "output_type": "execute_result"
    }
   ],
   "source": [
    "import os\n",
    "from os import listdir\n",
    "from os.path import isfile, join\n",
    "import numpy as np\n",
    "import pandas as pd\n",
    "import glob, csv\n",
    "import nltk\n",
    "import re\n",
    "import string\n",
    "import seaborn as sns\n",
    "from nltk.stem import WordNetLemmatizer\n",
    "from sklearn import preprocessing\n",
    "from sklearn.feature_extraction.text import ENGLISH_STOP_WORDS\n",
    "from nltk.corpus import stopwords\n",
    "nltk.download('wordnet')"
   ]
  },
  {
   "cell_type": "code",
   "execution_count": 20,
   "id": "d7d38cc9",
   "metadata": {},
   "outputs": [
    {
     "name": "stdout",
     "output_type": "stream",
     "text": [
      "['AaronPressman', 'AlanCrosby', 'AlexanderSmith', 'BenjaminKangLim', 'BernardHickey', 'BradDorfman', 'DarrenSchuettler', 'DavidLawder', 'EdnaFernandes', 'EricAuchard', 'FumikoFujisaki', 'GrahamEarnshaw', 'HeatherScoffield', 'JaneMacartney', 'JanLopatka', 'JimGilchrist', 'JoeOrtiz', 'JohnMastrini', 'JonathanBirt', 'JoWinterbottom', 'KarlPenhaul', 'KeithWeir', 'KevinDrawbaugh', 'KevinMorrison', 'KirstinRidley', 'KouroshKarimkhany', 'LydiaZajc', \"LynneO'Donnell\", 'LynnleyBrowning', 'MarcelMichelson', 'MarkBendeich', 'MartinWolk', 'MatthewBunce', 'MichaelConnor', 'MureDickie', 'NickLouth', 'PatriciaCommins', 'PeterHumphrey', 'PierreTran', 'RobinSidel', 'RogerFillion', 'SamuelPerry', 'SarahDavison', 'ScottHillis', 'SimonCowell', 'TanEeLyn', 'TheresePoletti', 'TimFarrand', 'ToddNissen', 'WilliamKazer']\n",
      "50\n"
     ]
    }
   ],
   "source": [
    "authors = os.listdir('./data/C50train')\n",
    "print(authors)\n",
    "print(len(authors))"
   ]
  },
  {
   "cell_type": "code",
   "execution_count": 79,
   "id": "880d613f",
   "metadata": {},
   "outputs": [],
   "source": [
    "labels = []\n",
    "docs = []\n",
    "path='./data/C50train/'\n",
    "for r, dirs, files in os.walk(path):\n",
    "     for file in files:\n",
    "           # print(file)\n",
    "            with open(os.path.join(r, file), \"r\") as f:\n",
    "                author_text = f.read()\n",
    "                author_sentences = author_text.replace('.\\n','')\n",
    "                docs.append(author_sentences)\n",
    "                labels.append(r.replace(path,''))\n",
    "                \n",
    "                #author_sentences = author_text.split(\".\\n\")\n",
    "                #for sentence in author_sentences:\n",
    "                #        sentence = sentence.replace('\\n', '')\n",
    "                #        if sentence.__len__() > 0 and sentence.count(' ') > 1:\n",
    "                #            docs.append(sentence)\n",
    "                #            labels.append(r.replace(path,''))\n",
    "                             \n",
    "            "
   ]
  },
  {
   "cell_type": "code",
   "execution_count": 82,
   "id": "250beee2",
   "metadata": {},
   "outputs": [
    {
     "name": "stdout",
     "output_type": "stream",
     "text": [
      "The U.S. Postal Service announced Wednesday a plan to boost online commerce by enhancing the security and reliability of electronic mail traveling on the InternetUnder the plan, businesses and consumers can verify that e-mail has not been tampered with and use services now available for ordinary mail like sending a certified letter\"The leap from trading messages to buying and selling goods has been blocked by the fear of security threats,\" Robert Reisner, vice president of stategic planning, said.  \n",
      "\"To expand from local area networks and bilateral secure communications to wide use of electronic commerce will require a new generation of security services,\" Reisner saidCylink Corp is developing a system for the Post Office to use to verify the identity of e-mail senders. The system will enable people to register a digital \"signature\" with the Post Office that can be compared against electronic mail they sendIf any tampering is discovered, the Postal Service would investigate, just like it investigates tampering with regular mail, Reisner said.  \n",
      "The Post Office is also using the Internet to enhance non-electronic mail deliveryIn conjunction with Sun Microsystems, the Postal Service has also developed a new online system for bulk mailers that relies on Sun's Java computer language, Reisner saidInstead of manually calculating postage rates for bulk mailings, possibly using outdated forms, a bulk mailer will be able to add up the charges using a software application written with Java and posted on the Internet.  \n",
      "Eventually, the Post Office plans to offer hybrid services involving both kinds of mail, Reisner saidElectronic mail could be converted to paper and delivered within one business day, for example. Or someone who moves could register a change of address with the Post Office over the InternetCritics of the Post Office's Internet plans have said the service is usurping functions that could be better performed by the private sector. But Reisner rejected those arguments, maintaining that the Post Office has often facilitated the spread of new technologies, such as railroads and aircraft.  \n",
      "\"Remember the pilots who returned from World War I and then risked their lives in an even more dangerous duty,\" Resiner said refering to early airmail delivery efforts\"To keep these daring pilots alive, the Postal Service had to create parts of what we know as the weather service today. Navigation aids had to be developed. We are watching many of these same dynamics today. Earlier experience tells us that this is a public and private job.\"\n",
      "--202-898-8312\n",
      "\n"
     ]
    }
   ],
   "source": [
    "print(docs[1])"
   ]
  },
  {
   "cell_type": "code",
   "execution_count": 81,
   "id": "3d88daeb",
   "metadata": {},
   "outputs": [
    {
     "name": "stdout",
     "output_type": "stream",
     "text": [
      "2500\n"
     ]
    }
   ],
   "source": [
    "print(len(labels))"
   ]
  },
  {
   "cell_type": "code",
   "execution_count": 83,
   "id": "aa175297",
   "metadata": {},
   "outputs": [],
   "source": [
    "data_dict = dict([('text', docs), ('author', labels)])\n",
    "df_trainset = pd.DataFrame(data_dict)\n",
    "le = preprocessing.LabelEncoder()\n",
    "df_trainset['author_label'] = le.fit_transform(df_trainset.author)\n",
    "df_trainset['id'] = df_trainset.index"
   ]
  },
  {
   "cell_type": "code",
   "execution_count": 87,
   "id": "1d3a9f77",
   "metadata": {},
   "outputs": [
    {
     "name": "stdout",
     "output_type": "stream",
     "text": [
      "                                                   text         author  \\\n",
      "0     The Internet may be overflowing with new techn...  AaronPressman   \n",
      "1     The U.S. Postal Service announced Wednesday a ...  AaronPressman   \n",
      "2     Elementary school students with access to the ...  AaronPressman   \n",
      "3     An influential Internet organisation has backe...  AaronPressman   \n",
      "4     An influential Internet organisation has backe...  AaronPressman   \n",
      "...                                                 ...            ...   \n",
      "2495  China's central bank chief has said that infla...   WilliamKazer   \n",
      "2496  China ushered in 1997, a year it has hailed as...   WilliamKazer   \n",
      "2497  China issued tough new rules on the handling o...   WilliamKazer   \n",
      "2498  China will avoid bold moves in tackling its ai...   WilliamKazer   \n",
      "2499  Communist Party chief Jiang Zemin has put his ...   WilliamKazer   \n",
      "\n",
      "      author_label    id  \n",
      "0                0     0  \n",
      "1                0     1  \n",
      "2                0     2  \n",
      "3                0     3  \n",
      "4                0     4  \n",
      "...            ...   ...  \n",
      "2495            49  2495  \n",
      "2496            49  2496  \n",
      "2497            49  2497  \n",
      "2498            49  2498  \n",
      "2499            49  2499  \n",
      "\n",
      "[2500 rows x 4 columns]\n"
     ]
    }
   ],
   "source": [
    "print(df_trainset)"
   ]
  },
  {
   "cell_type": "code",
   "execution_count": 106,
   "id": "80458e9c",
   "metadata": {},
   "outputs": [],
   "source": [
    "eng_stopwords = set(stopwords.words(\"english\"))\n",
    "df_trainset[\"num_words\"] = df_trainset[\"text\"].apply(lambda x: len(str(x).split()))\n",
    "df_trainset[\"num_unique_words\"] = df_trainset[\"text\"].apply(lambda x: len(set(str(x).split())))\n",
    "df_trainset[\"num_chars\"] = df_trainset[\"text\"].apply(lambda x: len(str(x)))\n",
    "df_trainset[\"num_stopwords\"] = df_trainset[\"text\"].apply(lambda x: len([w for w in str(x).lower().split() if w in eng_stopwords]))\n",
    "df_trainset[\"num_punctuations\"] =df_trainset['text'].apply(lambda x: len([c for c in str(x) if c in string.punctuation]) )\n",
    "df_trainset[\"mean_word_len\"] = df_trainset[\"text\"].apply(lambda x: np.mean([len(w) for w in str(x).split()]))\n",
    "df_trainset[\"num_words_upper\"] = df_trainset[\"text\"].apply(lambda x: len([w for w in str(x).split() if w.isupper()]))\n"
   ]
  },
  {
   "cell_type": "code",
   "execution_count": 107,
   "id": "4a6bdd53",
   "metadata": {},
   "outputs": [
    {
     "name": "stdout",
     "output_type": "stream",
     "text": [
      "                                                   text         author  \\\n",
      "0     The Internet may be overflowing with new techn...  AaronPressman   \n",
      "1     The U.S. Postal Service announced Wednesday a ...  AaronPressman   \n",
      "2     Elementary school students with access to the ...  AaronPressman   \n",
      "3     An influential Internet organisation has backe...  AaronPressman   \n",
      "4     An influential Internet organisation has backe...  AaronPressman   \n",
      "...                                                 ...            ...   \n",
      "2495  China's central bank chief has said that infla...   WilliamKazer   \n",
      "2496  China ushered in 1997, a year it has hailed as...   WilliamKazer   \n",
      "2497  China issued tough new rules on the handling o...   WilliamKazer   \n",
      "2498  China will avoid bold moves in tackling its ai...   WilliamKazer   \n",
      "2499  Communist Party chief Jiang Zemin has put his ...   WilliamKazer   \n",
      "\n",
      "      author_label    id  num_words  num_unique_words  num_chars  \\\n",
      "0                0     0        310               207       1989   \n",
      "1                0     1        407               242       2586   \n",
      "2                0     2         71                59        487   \n",
      "3                0     3        448               277       2875   \n",
      "4                0     4        345               214       2275   \n",
      "...            ...   ...        ...               ...        ...   \n",
      "2495            49  2495        390               223       2397   \n",
      "2496            49  2496        614               339       3864   \n",
      "2497            49  2497        319               187       1961   \n",
      "2498            49  2498        506               302       3047   \n",
      "2499            49  2499        616               343       3779   \n",
      "\n",
      "      num_stopwords  num_punctuations  mean_word_len  num_words_upper  \n",
      "0               113                48       5.419355                1  \n",
      "1               154                51       5.334152                2  \n",
      "2                21                 7       5.873239                0  \n",
      "3               177                54       5.419643                2  \n",
      "4               136                43       5.597101                1  \n",
      "...             ...               ...            ...              ...  \n",
      "2495            157                44       5.146154                0  \n",
      "2496            245                67       5.293160                0  \n",
      "2497            127                21       5.150470                4  \n",
      "2498            199                51       5.023715                0  \n",
      "2499            247                71       5.134740                0  \n",
      "\n",
      "[2500 rows x 11 columns]\n"
     ]
    }
   ],
   "source": [
    "print(df_trainset)"
   ]
  },
  {
   "cell_type": "code",
   "execution_count": 88,
   "id": "5d72cd2a",
   "metadata": {},
   "outputs": [],
   "source": [
    "from nltk.tag import pos_tag\n",
    "from nltk.corpus import wordnet\n",
    "from nltk.corpus.reader.wordnet import VERB, NOUN, ADJ, ADV\n",
    "from nltk.stem.wordnet import WordNetLemmatizer\n",
    "from collections import Counter\n",
    "from nltk.corpus import stopwords\n",
    "from sklearn.feature_extraction.text import ENGLISH_STOP_WORDS\n",
    "\n",
    "stop_words = stopwords.words('english')\n",
    "eng_stop_words=list(ENGLISH_STOP_WORDS)\n",
    "my_stop_words=['xxxx']\n",
    "eng_stop_words.extend(my_stop_words)\n",
    "stopwords_dict = Counter(stop_words)\n",
    "lemmatizer = WordNetLemmatizer()\n",
    "\n",
    "def get_wordnet_pos(treebank_tag):\n",
    "\n",
    "    if treebank_tag.startswith('J'):\n",
    "        return wordnet.ADJ\n",
    "    elif treebank_tag.startswith('V'):\n",
    "        return wordnet.VERB\n",
    "    elif treebank_tag.startswith('N'):\n",
    "        return wordnet.NOUN\n",
    "    elif treebank_tag.startswith('R'):\n",
    "        return wordnet.ADV\n",
    "    else:\n",
    "        return wordnet.NOUN\n",
    "    \n",
    "def stop_word_rem_and_lemmatization(text):\n",
    "    lemm_text=[]\n",
    "    from nltk.tokenize import word_tokenize\n",
    "    #stop_words_cleaned_text=[word for word in text.split() if word not in stopwords_dict]\n",
    "    \n",
    "    \n",
    "    for word,tag in pos_tag(text.split()):\n",
    "        lemm_text.append(lemmatizer.lemmatize(word, get_wordnet_pos(tag)))\n",
    "    lemm_text=[word for word in lemm_text if word not in eng_stop_words]\n",
    "    return \" \".join(lemm_text)\n",
    "\n",
    "    "
   ]
  },
  {
   "cell_type": "code",
   "execution_count": 89,
   "id": "ea2f70dc",
   "metadata": {},
   "outputs": [],
   "source": [
    "import nltk\n",
    "from nltk.tokenize import word_tokenize\n",
    "from string import punctuation  \n",
    "from nltk.corpus import stopwords\n",
    "\n",
    "def preprocessData(file):\n",
    "        processed_text=[]\n",
    "       \n",
    "        for line in file:\n",
    "            #remove <br /> tags and newline characters from text\n",
    "            sentence = line.replace('<br />','').strip('\\n').split('\\t')\n",
    "            \n",
    "            if(len(sentence)==2):\n",
    "                ratings.append(sentence[0])\n",
    "                #convert text to lowercase\n",
    "                sentence=sentence[1].lower()\n",
    "            else:\n",
    "                sentence=sentence[0].lower()\n",
    "            \n",
    "            # remove punctuation marks and numbers\n",
    "            for ch in punctuation+'0123456789$%-':\n",
    "                sentence = sentence.replace(ch,' ')\n",
    "            \n",
    "            #remove all characters less than or equal to two characters\n",
    "            sentence=re.sub(r'\\b\\w{1,2}\\b', '', sentence)\n",
    "               \n",
    "            \n",
    "            #Text lemmatization and stop words removal\n",
    "            sentence=stop_word_rem_and_lemmatization(sentence)\n",
    "            processed_text.append(sentence)\n",
    "            \n",
    "        return processed_text\n",
    "            "
   ]
  },
  {
   "cell_type": "code",
   "execution_count": 69,
   "id": "7c696dc5",
   "metadata": {},
   "outputs": [
    {
     "name": "stdout",
     "output_type": "stream",
     "text": [
      "Column Contents :  [    0     1     2 ... 38674 38675 38676]\n",
      "Column Contents :  ['The Internet may be overflowing with new technology but crime in cyberspace is still of the old-fashioned variety'\n",
      " 'The National Consumers League said Wednesday that the most popular scam on the Internet was the pyramid scheme, in which early investors in a bogus fund are paid off with deposits of later investors'\n",
      " 'The league, a non-profit consumer advocacy group, tracks web scams through a site it set up on the world wide web in February called Internet Fraud Watch at http://www.fraud.org'\n",
      " ...\n",
      " \"While the series paid homage to Deng's 1992 tour of southern China's special economic zones, which he used to kick-start stalled reforms, viewers saw a sanitised version\"\n",
      " '\"A key part of the southern tour was Deng\\'s anti-leftist theme,\" said a Chinese academic. \"This made no mention of that.\"Analysts said Jiang was placating the Communist Party\\'s left wing as he prepares for the party congress scheduled for later this year, a pivotal meeting that will set the nation\\'s political and economic course for the next five years'\n",
      " '\"By holding tightly to the Deng legacy he is trying to demonstrate that he is the one to interpret Deng,\" said a China analyst. \"And he is the one who will set the tone for the congress.\"']\n"
     ]
    }
   ],
   "source": [
    "for column in df_trainset[['id','text']]:\n",
    "    columnSeriesObj = df_trainset[column]\n",
    "    print('Column Contents : ', columnSeriesObj.values)\n",
    "    "
   ]
  },
  {
   "cell_type": "code",
   "execution_count": null,
   "id": "7c1dc840",
   "metadata": {},
   "outputs": [],
   "source": [
    "for i in df.index:\n",
    "    "
   ]
  }
 ],
 "metadata": {
  "kernelspec": {
   "display_name": "Python 3",
   "language": "python",
   "name": "python3"
  },
  "language_info": {
   "codemirror_mode": {
    "name": "ipython",
    "version": 3
   },
   "file_extension": ".py",
   "mimetype": "text/x-python",
   "name": "python",
   "nbconvert_exporter": "python",
   "pygments_lexer": "ipython3",
   "version": "3.8.8"
  }
 },
 "nbformat": 4,
 "nbformat_minor": 5
}
